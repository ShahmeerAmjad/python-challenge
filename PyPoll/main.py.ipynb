{
 "cells": [
  {
   "cell_type": "code",
   "execution_count": 5,
   "metadata": {},
   "outputs": [],
   "source": [
    "#import dependencies\n",
    "import os\n",
    "import csv\n"
   ]
  },
  {
   "cell_type": "code",
   "execution_count": 6,
   "metadata": {},
   "outputs": [
    {
     "name": "stdout",
     "output_type": "stream",
     "text": [
      "Resources/election_data.csv\n"
     ]
    }
   ],
   "source": [
    "csvpath=os.path.join('Resources','election_data.csv')\n",
    "print(csvpath)\n",
    "    #path for  output file\n",
    "outputPath=os.path.join(\"Resources\", \"ElectionData\")"
   ]
  },
  {
   "cell_type": "code",
   "execution_count": 7,
   "metadata": {},
   "outputs": [],
   "source": [
    "#initialize variables\n",
    "candidates=[]\n",
    "voteCounts=[]\n",
    "totalVotes=0"
   ]
  },
  {
   "cell_type": "code",
   "execution_count": 8,
   "metadata": {},
   "outputs": [
    {
     "name": "stdout",
     "output_type": "stream",
     "text": [
      "<_csv.reader object at 0x104bc7668>\n",
      "CSV Header:['Voter ID', 'County', 'Candidate']\n"
     ]
    }
   ],
   "source": [
    "with open(csvpath, 'r') as csvfile:\n",
    "    csvreader = csv.reader(csvfile, delimiter=',')\n",
    "    print(csvreader)\n",
    "    csv_header = next(csvreader)\n",
    "    print(f\"CSV Header:{csv_header}\")\n",
    "    #skip the header\n",
    "    line=next(csvreader,None)\n",
    "    \n",
    "    for line in csvreader:\n",
    "        totalVotes=totalVotes+1\n",
    "        #candidate votes\n",
    "        candidate=line[2]\n",
    "        #print(line)\n",
    "        # If candidate has votes than add to vote counts for each canidate type\n",
    "        if candidate in candidates:\n",
    "            candidate_Index=candidates.index(candidate)\n",
    "            voteCounts[candidate_Index]=voteCounts[candidate_Index]+1\n",
    "        #If candidate is not already in the array, then add to list\n",
    "        else:\n",
    "            candidates.append(candidate)\n",
    "            voteCounts.append(1)"
   ]
  },
  {
   "cell_type": "code",
   "execution_count": 75,
   "metadata": {},
   "outputs": [
    {
     "name": "stdout",
     "output_type": "stream",
     "text": [
      "['Correy', 'Khan', 'Li', \"O'Tooley\"]\n"
     ]
    }
   ],
   "source": [
    "percentages=[]\n",
    "max_votes=voteCounts[0]\n",
    "max_index=0\n",
    "\n",
    "print(candidates)"
   ]
  },
  {
   "cell_type": "code",
   "execution_count": 76,
   "metadata": {},
   "outputs": [
    {
     "name": "stdout",
     "output_type": "stream",
     "text": [
      "2218230\n"
     ]
    }
   ],
   "source": [
    "#find the winner of the election\n",
    "for count in range(len(candidates)):\n",
    "    voteInPercentage=(voteCounts[count]/totalVotes)*100\n",
    "    percentages.append(voteInPercentage)\n",
    "    if voteCounts[count]>max_votes:\n",
    "        max_votes=voteCounts[count]\n",
    "        print(max_votes)\n",
    "        max_index=count\n",
    "        \n",
    "winner=candidates[max_index]\n"
   ]
  },
  {
   "cell_type": "code",
   "execution_count": 77,
   "metadata": {},
   "outputs": [
    {
     "name": "stdout",
     "output_type": "stream",
     "text": [
      "Election Results\n",
      "------------------------------\n",
      "Total Votes:3521000\n",
      "Correy: 20.0% (704200)\n",
      "Khan: 63.0% (2218230)\n",
      "Li: 14.000000000000002% (492940)\n",
      "O'Tooley: 3.0% (105630)\n",
      "------------------------------\n",
      "Winner:Khan\n",
      "------------------------------\n"
     ]
    }
   ],
   "source": [
    "#print final results\n",
    "\n",
    "print(\"Election Results\")\n",
    "print(\"------------------------------\")\n",
    "print(f\"Total Votes:{totalVotes}\")\n",
    "\n",
    "for count in range(len(candidates)):\n",
    "    print(f\"{candidates[count]}: {percentages[count]}% ({voteCounts[count]})\")\n",
    "print(\"------------------------------\")\n",
    "\n",
    "print(f\"Winner:{winner}\")\n",
    "print(\"------------------------------\")"
   ]
  },
  {
   "cell_type": "code",
   "execution_count": 79,
   "metadata": {},
   "outputs": [],
   "source": [
    "write_file=f\"PyPoll_results_summary.txt\"\n",
    "\n",
    "#open write_file\n",
    "filewriter= open(write_file, mode=\"w\")\n",
    "\n",
    "#print final results in a text file\n",
    "\n",
    "filewriter.write(\"Election Results\\n\")\n",
    "filewriter.write(\"------------------------------\\n\")\n",
    "filewriter.write(f\"Total Votes:{totalVotes}\\n\")\n",
    "filewriter.write(\"------------------------------\\n\")\n",
    "\n",
    "for count in range(len(candidates)):\n",
    "    filewriter.write(\"------------------------------\\n\")\n",
    "    filewriter.write(f\"{candidates[count]}: {percentages[count]}% ({voteCounts[count]})\\n\")\n",
    "    filewriter.write(\"------------------------------\\n\")\n",
    "    filewriter.write(f\"Winner:{winner}\\n\")\n",
    "    filewriter.write(\"------------------------------\\n\")\n",
    "\n",
    "#close the file once data is entered in txt file\n",
    "filewriter.close()\n",
    "\n",
    "\n",
    "\n",
    "\n",
    "\n",
    "\n"
   ]
  },
  {
   "cell_type": "code",
   "execution_count": null,
   "metadata": {},
   "outputs": [],
   "source": []
  }
 ],
 "metadata": {
  "kernelspec": {
   "display_name": "Python 3",
   "language": "python",
   "name": "python3"
  },
  "language_info": {
   "codemirror_mode": {
    "name": "ipython",
    "version": 3
   },
   "file_extension": ".py",
   "mimetype": "text/x-python",
   "name": "python",
   "nbconvert_exporter": "python",
   "pygments_lexer": "ipython3",
   "version": "3.6.9"
  }
 },
 "nbformat": 4,
 "nbformat_minor": 2
}
