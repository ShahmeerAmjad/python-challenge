{
 "cells": [
  {
   "cell_type": "code",
   "execution_count": 40,
   "metadata": {},
   "outputs": [
    {
     "name": "stdout",
     "output_type": "stream",
     "text": [
      "/Users/samjad/Desktop/budget_data.csv\n",
      "Resources/BudgetData\n"
     ]
    }
   ],
   "source": [
    "import os\n",
    "import csv\n",
    "#csvpath=os.path.join('Resources','budget_data.csv') \n",
    "#csvpath= \"/Users/samjad/Documents/GitHub/python-challenge/PyBank/Resources/budget_data.csv\"\n",
    "csvpath= \"/Users/samjad/Desktop/budget_data.csv\"\n",
    "#Used this csvpath because it was not reading the csv file which is super weird, showed it to the instructor +TA as proof!\n",
    "#print(csvpath)\n",
    "#path for  output file\n",
    "outputPath=os.path.join(\"Resources\",\"BudgetData\")\n",
    "\n",
    "print(csvpath)\n",
    "print(outputPath)"
   ]
  },
  {
   "cell_type": "code",
   "execution_count": 41,
   "metadata": {},
   "outputs": [],
   "source": [
    "#initialize variables\n",
    "\n",
    "totalMonths=0\n",
    "totalSum=0\n",
    "rowAmt=0\n",
    "previousRowAmt=0\n",
    "change=0.00\n",
    "previousChange=0.00\n",
    "\n",
    "change_list={}\n"
   ]
  },
  {
   "cell_type": "code",
   "execution_count": 42,
   "metadata": {},
   "outputs": [
    {
     "name": "stdout",
     "output_type": "stream",
     "text": [
      "<_csv.reader object at 0x10c369898>\n",
      "CSV Header:['Date', 'Profit/Losses']\n",
      "Financial Analysis\n",
      "----------------------------\n",
      "Total Months: 86\n",
      "Total: $ 38382578.0\n",
      "Total change: $ -2315.1176470588234\n",
      "Greatest Increase in Profits: (1926159.0, 'Feb-2012')\n",
      "Greatest Decrease in Profits: (-2196167.0, 'Sep-2013')\n"
     ]
    }
   ],
   "source": [
    "with open(csvpath, 'r') as csvfile:\n",
    "    csvreader = csv.reader(csvfile,delimiter=',')\n",
    "    print(csvreader)\n",
    "    csv_header = next(csvreader)\n",
    "    print(f\"CSV Header:{csv_header}\")\n",
    "    #Then skip the header\n",
    "    #line=next(csvreader,None)\n",
    "    \n",
    "    for line in csvreader:\n",
    "        totalMonths=totalMonths+1\n",
    "        rowAmt=float(line[1])\n",
    "        currentRowAmt=float(rowAmt)\n",
    "\n",
    "        totalSum=totalSum+rowAmt\n",
    "        if(previousRowAmt!=0):\n",
    "            change=rowAmt-previousRowAmt\n",
    "        \n",
    "        previousRowAmt=currentRowAmt\n",
    "        \n",
    "        currentchange=change+previousChange\n",
    "        \n",
    "        previousChange=currentchange\n",
    "        \n",
    "        change_list.update({line[0]:change})   \n",
    "\n",
    "        \n",
    "    print(\"Financial Analysis\")\n",
    "    print(\"----------------------------\") \n",
    "    print(\"Total Months:\",totalMonths)\n",
    "    print(\"Total: $\",totalSum)\n",
    "    print(\"Total change: $\",currentchange/(totalMonths-1))\n",
    "    print(\"Greatest Increase in Profits:\",max(zip(change_list.values(), change_list.keys())))\n",
    "    print(\"Greatest Decrease in Profits:\",min(zip(change_list.values(), change_list.keys()))) \n"
   ]
  },
  {
   "cell_type": "code",
   "execution_count": 44,
   "metadata": {},
   "outputs": [],
   "source": [
    "#export file as text file\n",
    "\n",
    "#write_file= f\"PyBank_results_summary.txt\"\n",
    "\n",
    "with open('PyBank_results_summary.txt', 'w') as f:\n",
    "    print(\"Financial Analysis\", file=f)\n",
    "    print(\"----------------------------\",file=f) \n",
    "    print(\"Total Months:\",totalMonths,file=f)\n",
    "    print(\"Total: $\",totalSum,file=f)\n",
    "    print(\"Total change: $\",currentchange/(totalMonths-1),file=f)\n",
    "    print(\"Greatest Increase in Profits:\",max(zip(change_list.values(), change_list.keys())),file=f)\n",
    "    print(\"Greatest Decrease in Profits:\",min(zip(change_list.values(), change_list.keys())),file=f)\n"
   ]
  },
  {
   "cell_type": "code",
   "execution_count": null,
   "metadata": {},
   "outputs": [],
   "source": [
    "\n",
    "    "
   ]
  },
  {
   "cell_type": "code",
   "execution_count": null,
   "metadata": {},
   "outputs": [],
   "source": []
  }
 ],
 "metadata": {
  "kernelspec": {
   "display_name": "Python 3",
   "language": "python",
   "name": "python3"
  },
  "language_info": {
   "codemirror_mode": {
    "name": "ipython",
    "version": 3
   },
   "file_extension": ".py",
   "mimetype": "text/x-python",
   "name": "python",
   "nbconvert_exporter": "python",
   "pygments_lexer": "ipython3",
   "version": "3.6.9"
  }
 },
 "nbformat": 4,
 "nbformat_minor": 2
}
